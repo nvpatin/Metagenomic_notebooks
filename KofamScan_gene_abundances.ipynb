{
 "cells": [
  {
   "cell_type": "markdown",
   "metadata": {},
   "source": [
    "# The goal of this script is to calculate metagenome read mapping levels to KEGG-annotated genes. Before running it, you will need to have extracted open reading frames (ORFs) with Prodigal or a similar program, run KofamScan on those ORFs, and mapped reads to your assembly contigs with Magic Blast. \n",
    "\n",
    "## To run KofamScan, see these instructions from Taylor Reiter: https://taylorreiter.github.io/2019-05-11-kofamscan/\n",
    "\n",
    "## To map reads to your assembly with Magic Blast, see Roth Conrad's GitHub:\n",
    "## https://github.com/rotheconrad/00_in-situ_GeneCoverage\n",
    "\n",
    "# To run this script you will need the following:\n",
    "## 1. \"Master\" KO text file (\"KO_Orthology_ko00001.txt\"). Instructions for generating this file or downloading it are here: http://merenlab.org/2018/01/17/importing-ghostkoala-annotations/\n",
    "## 2. KofamScan output file (eg, \"sample_kofams.txt\")\n",
    "## 3. Filtered Magic Blast output for unassembled reads run against the predicted gene sequences (ORFs). The file should end with \"fltrdBestHits.blst\". See Roth Conrad's Github for how to process Magic Blast output. \n",
    "\n",
    "## Be sure to change all the paths in this file to the correct ones for your system."
   ]
  },
  {
   "cell_type": "markdown",
   "metadata": {},
   "source": [
    "#### Import dependencies"
   ]
  },
  {
   "cell_type": "code",
   "execution_count": 1,
   "metadata": {},
   "outputs": [
    {
     "name": "stderr",
     "output_type": "stream",
     "text": [
      "/Users/npatin3/miniconda/lib/python3.6/site-packages/statsmodels/tools/_testing.py:19: FutureWarning: pandas.util.testing is deprecated. Use the functions in the public API at pandas.testing instead.\n",
      "  import pandas.util.testing as tm\n"
     ]
    }
   ],
   "source": [
    "import os as os\n",
    "import glob as glob\n",
    "import math\n",
    "import pandas as pd\n",
    "import numpy as np\n",
    "import seaborn as sns\n",
    "import matplotlib.pyplot as plt"
   ]
  },
  {
   "cell_type": "code",
   "execution_count": 2,
   "metadata": {},
   "outputs": [],
   "source": [
    "# Navigate to working directory containing kofamscan output files\n",
    "os.chdir('/Users/npatin3/Dropbox (GaTech)/OV/Full_timeseries/Metagenomes/kofamscan')"
   ]
  },
  {
   "cell_type": "markdown",
   "metadata": {},
   "source": [
    "#### Import the \"master\" KO htext file"
   ]
  },
  {
   "cell_type": "code",
   "execution_count": 3,
   "metadata": {},
   "outputs": [],
   "source": [
    "ko_master = '/Users/npatin3/Dropbox (GaTech)/Workflows/KO_Orthology_ko00001.txt'"
   ]
  },
  {
   "cell_type": "markdown",
   "metadata": {},
   "source": [
    "# 1. Use the KofamScan annotations and Magic Blast read mapping results to calculate the number of reads mapped to each gene (KO)"
   ]
  },
  {
   "cell_type": "markdown",
   "metadata": {},
   "source": [
    "### Function to create file with KOs and number of mapped reads to each KO"
   ]
  },
  {
   "cell_type": "code",
   "execution_count": 4,
   "metadata": {},
   "outputs": [],
   "source": [
    "def get_KO_readcounts(kofams, magicblast, name):\n",
    "    # Drop rows with no KO\n",
    "    kofams.dropna(inplace=True)\n",
    "    # Select query and reference ORF from magicblast output\n",
    "    mb = magicblast[['Read','ORF']]\n",
    "    # Merge KO numbers with ORFs in MagicBlast results\n",
    "    mb_kos = mb.merge(kofams, on='ORF', how='inner')\n",
    "    # Add 'Size' column to provide count of one for each row\n",
    "    mb_kos['Size'] = 1\n",
    "    # Group by KO and provide sum of reads mapped to each one. Show one result for each KO only.\n",
    "    mb_kos['ReadCounts'] = mb_kos.groupby(['KO'])['Size'].transform('sum')\n",
    "    mb_kos.drop_duplicates(subset=['KO'], inplace=True)\n",
    "    KOs_readcounts = mb_kos[['KO','ReadCounts']]\n",
    "    KOs_readcounts['Sample'] = name\n",
    "    return(KOs_readcounts)"
   ]
  },
  {
   "cell_type": "markdown",
   "metadata": {},
   "source": [
    "### Make a directory called 'kofamscan' that ONLY contains the KofamScan output text files (1 file per sample). This code assumes those files are named as follows: \"X_Y_kofams.txt\""
   ]
  },
  {
   "cell_type": "code",
   "execution_count": 7,
   "metadata": {},
   "outputs": [],
   "source": [
    "# Show all the KofamScan output files in the directory described above\n",
    "# There should be one file per sample, each of which contains two columns: one for ORF number, one for associated KO \n",
    "# os.chdir('kofamscan')\n",
    "for file in glob.glob(\"*kofams.txt\"):\n",
    "    a, b = file.split('.')\n",
    "    c, d, e = a.split('_')\n",
    "    name = c\n",
    "    print(file, a, name)"
   ]
  },
  {
   "cell_type": "markdown",
   "metadata": {},
   "source": [
    "## Get read counts for each KO"
   ]
  },
  {
   "cell_type": "markdown",
   "metadata": {},
   "source": [
    "### This loop will match each kofamscan output with its associated sampe Magic Blast output, and merge all sample-specific files together in a dataframe showing the sample-specific KOs and read counts"
   ]
  },
  {
   "cell_type": "code",
   "execution_count": null,
   "metadata": {
    "scrolled": true
   },
   "outputs": [],
   "source": [
    "reads = []\n",
    "for file in glob.glob(\"*kofams.txt\"):\n",
    "    kofams = pd.read_csv(file, sep='\\t', names=['ORF', 'KO'])\n",
    "    a, b = file.split('.')\n",
    "    name, d = a.split('_')\n",
    "    # Depending on how your Magic Blast output file is named may need to modify the file name\n",
    "    mb = pd.read_csv('%s_magicblast.fltrdBstHts.blst' % name, comment='#', sep='\\t', header=None)\n",
    "    mb.columns = [\"Read\",\"ORF\",\"% identity\",\"not used\",\"not used\",\n",
    "                      \"not used\",\"query start\",\"query end\",\"reference start\",\n",
    "                      \"reference end\",\"not used\",\"not used\",\"score\",\n",
    "                      \"query strand\",\"reference strand\",\"query length\",\n",
    "                      \"BTOP\",\"num placements\",\"not used\",\"compartment\",\n",
    "                      \"left overhang\",\"right overhang\",\"mate reference\",\n",
    "                      \"mate ref. start\",\"composite score\"]\n",
    "    mb = mb[['Read','ORF']]\n",
    "    df = get_KO_readcounts(kofams, mb, name)\n",
    "    reads.append(df)\n",
    "\n",
    "reads_df = pd.concat(reads)"
   ]
  },
  {
   "cell_type": "code",
   "execution_count": 14,
   "metadata": {},
   "outputs": [
    {
     "data": {
      "text/html": [
       "<div>\n",
       "<style scoped>\n",
       "    .dataframe tbody tr th:only-of-type {\n",
       "        vertical-align: middle;\n",
       "    }\n",
       "\n",
       "    .dataframe tbody tr th {\n",
       "        vertical-align: top;\n",
       "    }\n",
       "\n",
       "    .dataframe thead th {\n",
       "        text-align: right;\n",
       "    }\n",
       "</style>\n",
       "<table border=\"1\" class=\"dataframe\">\n",
       "  <thead>\n",
       "    <tr style=\"text-align: right;\">\n",
       "      <th></th>\n",
       "      <th>KO</th>\n",
       "      <th>ReadCounts</th>\n",
       "      <th>Sample</th>\n",
       "    </tr>\n",
       "  </thead>\n",
       "  <tbody>\n",
       "    <tr>\n",
       "      <th>0</th>\n",
       "      <td>K16554</td>\n",
       "      <td>2751</td>\n",
       "      <td>080516</td>\n",
       "    </tr>\n",
       "    <tr>\n",
       "      <th>2710</th>\n",
       "      <td>K07089</td>\n",
       "      <td>842</td>\n",
       "      <td>080516</td>\n",
       "    </tr>\n",
       "    <tr>\n",
       "      <th>3546</th>\n",
       "      <td>K07568</td>\n",
       "      <td>1137</td>\n",
       "      <td>080516</td>\n",
       "    </tr>\n",
       "    <tr>\n",
       "      <th>4666</th>\n",
       "      <td>K03217</td>\n",
       "      <td>1860</td>\n",
       "      <td>080516</td>\n",
       "    </tr>\n",
       "    <tr>\n",
       "      <th>6493</th>\n",
       "      <td>K01733</td>\n",
       "      <td>3208</td>\n",
       "      <td>080516</td>\n",
       "    </tr>\n",
       "  </tbody>\n",
       "</table>\n",
       "</div>"
      ],
      "text/plain": [
       "          KO  ReadCounts  Sample\n",
       "0     K16554        2751  080516\n",
       "2710  K07089         842  080516\n",
       "3546  K07568        1137  080516\n",
       "4666  K03217        1860  080516\n",
       "6493  K01733        3208  080516"
      ]
     },
     "execution_count": 14,
     "metadata": {},
     "output_type": "execute_result"
    }
   ],
   "source": [
    "reads_df.head()"
   ]
  },
  {
   "cell_type": "code",
   "execution_count": 15,
   "metadata": {},
   "outputs": [
    {
     "data": {
      "text/plain": [
       "54456"
      ]
     },
     "execution_count": 15,
     "metadata": {},
     "output_type": "execute_result"
    }
   ],
   "source": [
    "# Check size of the dataframe\n",
    "reads_df.size"
   ]
  },
  {
   "cell_type": "code",
   "execution_count": 16,
   "metadata": {},
   "outputs": [],
   "source": [
    "# Export dataframe to csv\n",
    "reads_df.to_csv(\"OV_assembly_KOs_readcounts.csv\", index=None)"
   ]
  },
  {
   "cell_type": "markdown",
   "metadata": {},
   "source": [
    "# 2. Now you can normalize the read counts by Genome Equivalent values. Similar to the KofamScan outputs, you should have a directory called 'GEs' or something similar that contains only the Microbe Census output files. As with the KofamScan output files, this assumes the file names are formatted as follows: \"X_Y_GE.txt\". "
   ]
  },
  {
   "cell_type": "code",
   "execution_count": 10,
   "metadata": {},
   "outputs": [],
   "source": [
    "# Import the csv file just created, if necessary\n",
    "reads_df = pd.read_csv(\"OV_assembly_KOs_readcounts.txt\", sep='\\t', header=0, dtype='str')"
   ]
  },
  {
   "cell_type": "markdown",
   "metadata": {},
   "source": [
    "#### Function to extract GE from indiivdual MicrobeCensus report"
   ]
  },
  {
   "cell_type": "code",
   "execution_count": 8,
   "metadata": {},
   "outputs": [],
   "source": [
    "def extract_GE(GE):\n",
    "    \"\"\"Use the MicrobeCensus output file to extract the Genome Equivalent value of the metagenome\"\"\"\n",
    "    lines = []\n",
    "    with open(GE, \"rt\") as GE_file:\n",
    "        for line in GE_file:\n",
    "            lines.append(line)\n",
    "    for s in lines[12].split():\n",
    "        try:\n",
    "            ge = float(s)\n",
    "        except ValueError:\n",
    "            pass\n",
    "    return(ge)"
   ]
  },
  {
   "cell_type": "markdown",
   "metadata": {},
   "source": [
    "#### Move to directory with GE files and run function through loop"
   ]
  },
  {
   "cell_type": "code",
   "execution_count": 9,
   "metadata": {},
   "outputs": [],
   "source": [
    "os.chdir('/Users/npatin3/Dropbox (GaTech)/OV/Full_timeseries/Metagenomes/GEs')"
   ]
  },
  {
   "cell_type": "code",
   "execution_count": 10,
   "metadata": {},
   "outputs": [],
   "source": [
    "GE_values = {}\n",
    "files = os.listdir()\n",
    "for file in files:\n",
    "    a, b = file.split('.')\n",
    "    c, d, e = a.split('_')\n",
    "    x = extract_GE(file)\n",
    "    GE_values[c] = x"
   ]
  },
  {
   "cell_type": "code",
   "execution_count": 11,
   "metadata": {},
   "outputs": [
    {
     "data": {
      "text/plain": [
       "{'083018': 446.144900054,\n",
       " '080516': 751.835105984,\n",
       " '092816': 627.392761456,\n",
       " '101019': 1766.84507874,\n",
       " '042618': 814.232063266,\n",
       " '021419': 1620.28429227}"
      ]
     },
     "execution_count": 11,
     "metadata": {},
     "output_type": "execute_result"
    }
   ],
   "source": [
    "GE_values"
   ]
  },
  {
   "cell_type": "markdown",
   "metadata": {},
   "source": [
    "### Match KOs, samples, and GE values"
   ]
  },
  {
   "cell_type": "code",
   "execution_count": 12,
   "metadata": {},
   "outputs": [],
   "source": [
    "# Map the GE of the corresponding sample onto the read counts file\n",
    "reads_df['GE'] = reads_df['Sample'].map(GE_values)"
   ]
  },
  {
   "cell_type": "code",
   "execution_count": 13,
   "metadata": {},
   "outputs": [
    {
     "data": {
      "text/html": [
       "<div>\n",
       "<style scoped>\n",
       "    .dataframe tbody tr th:only-of-type {\n",
       "        vertical-align: middle;\n",
       "    }\n",
       "\n",
       "    .dataframe tbody tr th {\n",
       "        vertical-align: top;\n",
       "    }\n",
       "\n",
       "    .dataframe thead th {\n",
       "        text-align: right;\n",
       "    }\n",
       "</style>\n",
       "<table border=\"1\" class=\"dataframe\">\n",
       "  <thead>\n",
       "    <tr style=\"text-align: right;\">\n",
       "      <th></th>\n",
       "      <th>KO</th>\n",
       "      <th>ReadCounts</th>\n",
       "      <th>Sample</th>\n",
       "      <th>GE</th>\n",
       "    </tr>\n",
       "  </thead>\n",
       "  <tbody>\n",
       "    <tr>\n",
       "      <th>0</th>\n",
       "      <td>K16554</td>\n",
       "      <td>2751</td>\n",
       "      <td>080516</td>\n",
       "      <td>751.835106</td>\n",
       "    </tr>\n",
       "    <tr>\n",
       "      <th>1</th>\n",
       "      <td>K07089</td>\n",
       "      <td>842</td>\n",
       "      <td>080516</td>\n",
       "      <td>751.835106</td>\n",
       "    </tr>\n",
       "    <tr>\n",
       "      <th>2</th>\n",
       "      <td>K07568</td>\n",
       "      <td>1137</td>\n",
       "      <td>080516</td>\n",
       "      <td>751.835106</td>\n",
       "    </tr>\n",
       "    <tr>\n",
       "      <th>3</th>\n",
       "      <td>K03217</td>\n",
       "      <td>1860</td>\n",
       "      <td>080516</td>\n",
       "      <td>751.835106</td>\n",
       "    </tr>\n",
       "    <tr>\n",
       "      <th>4</th>\n",
       "      <td>K01733</td>\n",
       "      <td>3208</td>\n",
       "      <td>080516</td>\n",
       "      <td>751.835106</td>\n",
       "    </tr>\n",
       "  </tbody>\n",
       "</table>\n",
       "</div>"
      ],
      "text/plain": [
       "       KO ReadCounts  Sample          GE\n",
       "0  K16554       2751  080516  751.835106\n",
       "1  K07089        842  080516  751.835106\n",
       "2  K07568       1137  080516  751.835106\n",
       "3  K03217       1860  080516  751.835106\n",
       "4  K01733       3208  080516  751.835106"
      ]
     },
     "execution_count": 13,
     "metadata": {},
     "output_type": "execute_result"
    }
   ],
   "source": [
    "reads_df.head()"
   ]
  },
  {
   "cell_type": "markdown",
   "metadata": {},
   "source": [
    "### Make a dict of the KOs from the reads df"
   ]
  },
  {
   "cell_type": "code",
   "execution_count": 14,
   "metadata": {},
   "outputs": [],
   "source": [
    "# Make a dict from the reads df\n",
    "kolist = reads_df['KO']\n",
    "ko_dict = {}"
   ]
  },
  {
   "cell_type": "code",
   "execution_count": 15,
   "metadata": {},
   "outputs": [],
   "source": [
    "for line in kolist:\n",
    "    konumber = line.rstrip()\n",
    "    ko_dict[konumber] = ''"
   ]
  },
  {
   "cell_type": "markdown",
   "metadata": {},
   "source": [
    "### Match the KO number in column 3 of the master file with the KOs using the ko_dict keys, and export this combined data frame as 'kolist_full.tsv'"
   ]
  },
  {
   "cell_type": "code",
   "execution_count": 16,
   "metadata": {},
   "outputs": [],
   "source": [
    "os.chdir('/Users/npatin3/Dropbox (GaTech)/OV/Full_timeseries/Metagenomes/kofamscan')"
   ]
  },
  {
   "cell_type": "code",
   "execution_count": 17,
   "metadata": {},
   "outputs": [],
   "source": [
    "with open(ko_master, 'r') as file, open('kolist_full.tsv', 'w') as outfile:\n",
    "    for line in file:\n",
    "        X = line.rstrip().split('\\t')\n",
    "        konumber = X[3].split(' ')[0]\n",
    "        if konumber in ko_dict:\n",
    "            outfile.write(line)"
   ]
  },
  {
   "cell_type": "markdown",
   "metadata": {},
   "source": [
    "# 3. Merge the spreadsheet of KO annotations with the read counts file to get a full spreadsheet of genes and normalized read counts for each one."
   ]
  },
  {
   "cell_type": "code",
   "execution_count": 36,
   "metadata": {},
   "outputs": [
    {
     "data": {
      "text/html": [
       "<div>\n",
       "<style scoped>\n",
       "    .dataframe tbody tr th:only-of-type {\n",
       "        vertical-align: middle;\n",
       "    }\n",
       "\n",
       "    .dataframe tbody tr th {\n",
       "        vertical-align: top;\n",
       "    }\n",
       "\n",
       "    .dataframe thead th {\n",
       "        text-align: right;\n",
       "    }\n",
       "</style>\n",
       "<table border=\"1\" class=\"dataframe\">\n",
       "  <thead>\n",
       "    <tr style=\"text-align: right;\">\n",
       "      <th></th>\n",
       "      <th>One</th>\n",
       "      <th>Two</th>\n",
       "      <th>Three</th>\n",
       "      <th>Four</th>\n",
       "    </tr>\n",
       "  </thead>\n",
       "  <tbody>\n",
       "    <tr>\n",
       "      <th>0</th>\n",
       "      <td>09100 Metabolism</td>\n",
       "      <td>09101 Carbohydrate metabolism</td>\n",
       "      <td>00010 Glycolysis / Gluconeogenesis [PATH:ko00010]</td>\n",
       "      <td>K00845  glk; glucokinase [EC:2.7.1.2]</td>\n",
       "    </tr>\n",
       "    <tr>\n",
       "      <th>1</th>\n",
       "      <td>09100 Metabolism</td>\n",
       "      <td>09101 Carbohydrate metabolism</td>\n",
       "      <td>00010 Glycolysis / Gluconeogenesis [PATH:ko00010]</td>\n",
       "      <td>K01810  GPI, pgi; glucose-6-phosphate isomeras...</td>\n",
       "    </tr>\n",
       "    <tr>\n",
       "      <th>2</th>\n",
       "      <td>09100 Metabolism</td>\n",
       "      <td>09101 Carbohydrate metabolism</td>\n",
       "      <td>00010 Glycolysis / Gluconeogenesis [PATH:ko00010]</td>\n",
       "      <td>K13810  tal-pgi; transaldolase / glucose-6-pho...</td>\n",
       "    </tr>\n",
       "    <tr>\n",
       "      <th>3</th>\n",
       "      <td>09100 Metabolism</td>\n",
       "      <td>09101 Carbohydrate metabolism</td>\n",
       "      <td>00010 Glycolysis / Gluconeogenesis [PATH:ko00010]</td>\n",
       "      <td>K15916  pgi-pmi; glucose/mannose-6-phosphate i...</td>\n",
       "    </tr>\n",
       "    <tr>\n",
       "      <th>4</th>\n",
       "      <td>09100 Metabolism</td>\n",
       "      <td>09101 Carbohydrate metabolism</td>\n",
       "      <td>00010 Glycolysis / Gluconeogenesis [PATH:ko00010]</td>\n",
       "      <td>K00850  pfkA, PFK; 6-phosphofructokinase 1 [EC...</td>\n",
       "    </tr>\n",
       "  </tbody>\n",
       "</table>\n",
       "</div>"
      ],
      "text/plain": [
       "                One                            Two  \\\n",
       "0  09100 Metabolism  09101 Carbohydrate metabolism   \n",
       "1  09100 Metabolism  09101 Carbohydrate metabolism   \n",
       "2  09100 Metabolism  09101 Carbohydrate metabolism   \n",
       "3  09100 Metabolism  09101 Carbohydrate metabolism   \n",
       "4  09100 Metabolism  09101 Carbohydrate metabolism   \n",
       "\n",
       "                                               Three  \\\n",
       "0  00010 Glycolysis / Gluconeogenesis [PATH:ko00010]   \n",
       "1  00010 Glycolysis / Gluconeogenesis [PATH:ko00010]   \n",
       "2  00010 Glycolysis / Gluconeogenesis [PATH:ko00010]   \n",
       "3  00010 Glycolysis / Gluconeogenesis [PATH:ko00010]   \n",
       "4  00010 Glycolysis / Gluconeogenesis [PATH:ko00010]   \n",
       "\n",
       "                                                Four  \n",
       "0              K00845  glk; glucokinase [EC:2.7.1.2]  \n",
       "1  K01810  GPI, pgi; glucose-6-phosphate isomeras...  \n",
       "2  K13810  tal-pgi; transaldolase / glucose-6-pho...  \n",
       "3  K15916  pgi-pmi; glucose/mannose-6-phosphate i...  \n",
       "4  K00850  pfkA, PFK; 6-phosphofructokinase 1 [EC...  "
      ]
     },
     "execution_count": 36,
     "metadata": {},
     "output_type": "execute_result"
    }
   ],
   "source": [
    "# you can name these columns however you want, just make sure to adjust the function below accordingly\n",
    "kolist_full = pd.read_csv('kolist_full.tsv', sep='\\t', header=None, names=['One','Two','Three','Four']) \n",
    "kolist_full.head()"
   ]
  },
  {
   "cell_type": "code",
   "execution_count": 37,
   "metadata": {},
   "outputs": [],
   "source": [
    "def reformat_kolist_full (ko_df, reads_df):\n",
    "    \"\"\" First reformat the KO annotation file\"\"\"\n",
    "    # Convert all column values to strings\n",
    "    ko_df['One'] = ko_df['One'].astype(str)\n",
    "    ko_df['Two'] = ko_df['Two'].astype(str)\n",
    "    ko_df['Three'] = ko_df['Three'].astype(str)\n",
    "    ko_df['Four'] = ko_df['Four'].astype(str)\n",
    "    # Remove the numbered codes preceding each category\n",
    "    ko_df[['One', 'Group']] = ko_df['One'].str.split(\" \", n=1, expand=True)\n",
    "    ko_df[['Two', 'Subgroup']] = ko_df['Two'].str.split(\" \", n=1, expand=True)\n",
    "    ko_df[['Three', 'Subgroup2']] = ko_df['Three'].str.split(\" \", n=1, expand=True)\n",
    "    ko_df[['Four', 'Function']] = ko_df['Four'].str.split(\" \", n=1, expand=True)\n",
    "    # Rename the column with KO numbers\n",
    "    ko_df_new = ko_df.rename(columns={\"Four\": \"KO\"})\n",
    "    # Select only relevant columns\n",
    "    ko_df_new = ko_df_new[['Group','Subgroup','Subgroup2','KO','Function']]\n",
    "    \"\"\" Now the KO annotation file can be merged with the read counts file\"\"\"\n",
    "    # Merge this data frame with the read counts data frame\n",
    "    df_full = ko_df_new.merge(reads_df, on='KO', how='inner')\n",
    "    df_full['ReadCounts'] = df_full['ReadCounts'].astype(float)\n",
    "    df_full['GE'] = df_full['GE'].astype(float)\n",
    "    # Normalize read counts by GE value of metagenome\n",
    "    df_full['ReadCounts_Norm'] = df_full['ReadCounts'] / df_full['GE']\n",
    "    return(df_full)"
   ]
  },
  {
   "cell_type": "code",
   "execution_count": 38,
   "metadata": {},
   "outputs": [],
   "source": [
    "KOs_readcounts_full = reformat_kolist_full(kolist_full, reads_df)\n",
    "KOs_readcounts_full.head()"
   ]
  },
  {
   "cell_type": "code",
   "execution_count": 41,
   "metadata": {},
   "outputs": [],
   "source": [
    "# Export this reformatted sheet\n",
    "KOs_readcounts_full.to_csv('KO_functions_reads.csv', index=None)"
   ]
  }
 ],
 "metadata": {
  "kernelspec": {
   "display_name": "Python 3",
   "language": "python",
   "name": "python3"
  },
  "language_info": {
   "codemirror_mode": {
    "name": "ipython",
    "version": 3
   },
   "file_extension": ".py",
   "mimetype": "text/x-python",
   "name": "python",
   "nbconvert_exporter": "python",
   "pygments_lexer": "ipython3",
   "version": "3.6.7"
  }
 },
 "nbformat": 4,
 "nbformat_minor": 2
}
